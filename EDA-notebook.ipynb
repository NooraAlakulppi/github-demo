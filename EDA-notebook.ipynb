{
  "cells": [
    {
      "cell_type": "code",
      "execution_count": null,
      "id": "c9c47446",
      "metadata": {
        "vscode": {
          "languageId": "plaintext"
        },
        "id": "c9c47446"
      },
      "outputs": [],
      "source": [
        "import pandas as pd\n",
        "import numpy as np\n",
        "import seaborn as sns"
      ]
    },
    {
      "cell_type": "code",
      "execution_count": null,
      "id": "624f8a1c",
      "metadata": {
        "vscode": {
          "languageId": "plaintext"
        },
        "id": "624f8a1c"
      },
      "outputs": [],
      "source": [
        "data = pd.read_csv('train.csv')"
      ]
    }
  ],
  "metadata": {
    "language_info": {
      "name": "python"
    },
    "colab": {
      "provenance": []
    }
  },
  "nbformat": 4,
  "nbformat_minor": 5
}